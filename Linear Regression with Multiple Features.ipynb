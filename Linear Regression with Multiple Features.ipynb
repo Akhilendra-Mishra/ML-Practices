{
 "cells": [
  {
   "cell_type": "code",
   "execution_count": 1,
   "id": "085a3fda",
   "metadata": {},
   "outputs": [
    {
     "name": "stderr",
     "output_type": "stream",
     "text": [
      "C:\\Users\\HP\\AppData\\Local\\Temp\\ipykernel_227616\\285935772.py:6: MatplotlibDeprecationWarning: The seaborn styles shipped by Matplotlib are deprecated since 3.6, as they no longer correspond to the styles shipped by seaborn. However, they will remain available as 'seaborn-v0_8-<style>'. Alternatively, directly use the seaborn API instead.\n",
      "  plt.style.use(\"seaborn\")\n"
     ]
    }
   ],
   "source": [
    "import numpy as np\n",
    "import pandas as pd\n",
    "from sklearn.datasets import make_regression\n",
    "from sklearn.model_selection import train_test_split\n",
    "import matplotlib.pyplot as plt\n",
    "plt.style.use(\"seaborn\")"
   ]
  },
  {
   "cell_type": "code",
   "execution_count": 2,
   "id": "dab58669",
   "metadata": {},
   "outputs": [
    {
     "name": "stdout",
     "output_type": "stream",
     "text": [
      "(500, 10) (500,)\n"
     ]
    }
   ],
   "source": [
    "# Step-1 Generate Data\n",
    "X,y = make_regression(n_samples=500,n_features=10,n_informative=5,noise=2, random_state=0)\n",
    "print(X.shape,y.shape)\n",
    "n_features = X.shape[1]"
   ]
  },
  {
   "cell_type": "code",
   "execution_count": 3,
   "id": "4dce645b",
   "metadata": {},
   "outputs": [
    {
     "data": {
      "text/html": [
       "<div>\n",
       "<style scoped>\n",
       "    .dataframe tbody tr th:only-of-type {\n",
       "        vertical-align: middle;\n",
       "    }\n",
       "\n",
       "    .dataframe tbody tr th {\n",
       "        vertical-align: top;\n",
       "    }\n",
       "\n",
       "    .dataframe thead th {\n",
       "        text-align: right;\n",
       "    }\n",
       "</style>\n",
       "<table border=\"1\" class=\"dataframe\">\n",
       "  <thead>\n",
       "    <tr style=\"text-align: right;\">\n",
       "      <th></th>\n",
       "      <th>0</th>\n",
       "      <th>1</th>\n",
       "      <th>2</th>\n",
       "      <th>3</th>\n",
       "      <th>4</th>\n",
       "      <th>5</th>\n",
       "      <th>6</th>\n",
       "      <th>7</th>\n",
       "      <th>8</th>\n",
       "      <th>9</th>\n",
       "    </tr>\n",
       "  </thead>\n",
       "  <tbody>\n",
       "    <tr>\n",
       "      <th>0</th>\n",
       "      <td>1.706468</td>\n",
       "      <td>1.511639</td>\n",
       "      <td>-0.000417</td>\n",
       "      <td>0.374155</td>\n",
       "      <td>0.073285</td>\n",
       "      <td>0.701783</td>\n",
       "      <td>0.409552</td>\n",
       "      <td>-0.461894</td>\n",
       "      <td>-0.626490</td>\n",
       "      <td>-0.799593</td>\n",
       "    </tr>\n",
       "    <tr>\n",
       "      <th>1</th>\n",
       "      <td>-1.616956</td>\n",
       "      <td>0.640132</td>\n",
       "      <td>-0.369182</td>\n",
       "      <td>-0.239379</td>\n",
       "      <td>-0.738031</td>\n",
       "      <td>-0.024326</td>\n",
       "      <td>1.099660</td>\n",
       "      <td>0.279925</td>\n",
       "      <td>-0.098150</td>\n",
       "      <td>0.655264</td>\n",
       "    </tr>\n",
       "    <tr>\n",
       "      <th>2</th>\n",
       "      <td>0.093953</td>\n",
       "      <td>-0.130107</td>\n",
       "      <td>0.929505</td>\n",
       "      <td>0.582225</td>\n",
       "      <td>-2.739677</td>\n",
       "      <td>0.943046</td>\n",
       "      <td>-2.094603</td>\n",
       "      <td>-0.569312</td>\n",
       "      <td>0.269904</td>\n",
       "      <td>0.123722</td>\n",
       "    </tr>\n",
       "    <tr>\n",
       "      <th>3</th>\n",
       "      <td>-1.542758</td>\n",
       "      <td>-0.789954</td>\n",
       "      <td>0.537035</td>\n",
       "      <td>-0.286835</td>\n",
       "      <td>-2.369623</td>\n",
       "      <td>-0.767332</td>\n",
       "      <td>1.634406</td>\n",
       "      <td>-0.260560</td>\n",
       "      <td>0.128957</td>\n",
       "      <td>0.571227</td>\n",
       "    </tr>\n",
       "    <tr>\n",
       "      <th>4</th>\n",
       "      <td>-0.101003</td>\n",
       "      <td>-2.231538</td>\n",
       "      <td>0.436187</td>\n",
       "      <td>1.571463</td>\n",
       "      <td>1.324868</td>\n",
       "      <td>-0.587375</td>\n",
       "      <td>1.077315</td>\n",
       "      <td>0.840648</td>\n",
       "      <td>0.261106</td>\n",
       "      <td>0.811090</td>\n",
       "    </tr>\n",
       "  </tbody>\n",
       "</table>\n",
       "</div>"
      ],
      "text/plain": [
       "          0         1         2         3         4         5         6  \\\n",
       "0  1.706468  1.511639 -0.000417  0.374155  0.073285  0.701783  0.409552   \n",
       "1 -1.616956  0.640132 -0.369182 -0.239379 -0.738031 -0.024326  1.099660   \n",
       "2  0.093953 -0.130107  0.929505  0.582225 -2.739677  0.943046 -2.094603   \n",
       "3 -1.542758 -0.789954  0.537035 -0.286835 -2.369623 -0.767332  1.634406   \n",
       "4 -0.101003 -2.231538  0.436187  1.571463  1.324868 -0.587375  1.077315   \n",
       "\n",
       "          7         8         9  \n",
       "0 -0.461894 -0.626490 -0.799593  \n",
       "1  0.279925 -0.098150  0.655264  \n",
       "2 -0.569312  0.269904  0.123722  \n",
       "3 -0.260560  0.128957  0.571227  \n",
       "4  0.840648  0.261106  0.811090  "
      ]
     },
     "execution_count": 3,
     "metadata": {},
     "output_type": "execute_result"
    }
   ],
   "source": [
    "pd.DataFrame(X).head()"
   ]
  },
  {
   "cell_type": "code",
   "execution_count": 4,
   "id": "5b261e11",
   "metadata": {},
   "outputs": [],
   "source": [
    "# Step-2 Normalise \n",
    "def normalise(X):\n",
    "    u = X.mean(axis=0)\n",
    "    std = X.std(axis=0)\n",
    "\n",
    "    return (X-u)/std"
   ]
  },
  {
   "cell_type": "code",
   "execution_count": 5,
   "id": "c96b7b84",
   "metadata": {},
   "outputs": [
    {
     "data": {
      "text/html": [
       "<div>\n",
       "<style scoped>\n",
       "    .dataframe tbody tr th:only-of-type {\n",
       "        vertical-align: middle;\n",
       "    }\n",
       "\n",
       "    .dataframe tbody tr th {\n",
       "        vertical-align: top;\n",
       "    }\n",
       "\n",
       "    .dataframe thead th {\n",
       "        text-align: right;\n",
       "    }\n",
       "</style>\n",
       "<table border=\"1\" class=\"dataframe\">\n",
       "  <thead>\n",
       "    <tr style=\"text-align: right;\">\n",
       "      <th></th>\n",
       "      <th>0</th>\n",
       "      <th>1</th>\n",
       "      <th>2</th>\n",
       "      <th>3</th>\n",
       "      <th>4</th>\n",
       "      <th>5</th>\n",
       "      <th>6</th>\n",
       "      <th>7</th>\n",
       "      <th>8</th>\n",
       "      <th>9</th>\n",
       "    </tr>\n",
       "  </thead>\n",
       "  <tbody>\n",
       "    <tr>\n",
       "      <th>0</th>\n",
       "      <td>1.764831</td>\n",
       "      <td>1.579606</td>\n",
       "      <td>0.093808</td>\n",
       "      <td>0.341546</td>\n",
       "      <td>0.103202</td>\n",
       "      <td>0.745205</td>\n",
       "      <td>0.421736</td>\n",
       "      <td>-0.461091</td>\n",
       "      <td>-0.710885</td>\n",
       "      <td>-0.761760</td>\n",
       "    </tr>\n",
       "    <tr>\n",
       "      <th>1</th>\n",
       "      <td>-1.612963</td>\n",
       "      <td>0.709920</td>\n",
       "      <td>-0.277540</td>\n",
       "      <td>-0.301827</td>\n",
       "      <td>-0.693297</td>\n",
       "      <td>-0.045695</td>\n",
       "      <td>1.116862</td>\n",
       "      <td>0.265971</td>\n",
       "      <td>-0.166048</td>\n",
       "      <td>0.714702</td>\n",
       "    </tr>\n",
       "    <tr>\n",
       "      <th>2</th>\n",
       "      <td>0.125936</td>\n",
       "      <td>-0.058708</td>\n",
       "      <td>1.030243</td>\n",
       "      <td>0.559735</td>\n",
       "      <td>-2.658385</td>\n",
       "      <td>1.007996</td>\n",
       "      <td>-2.100631</td>\n",
       "      <td>-0.566372</td>\n",
       "      <td>0.213499</td>\n",
       "      <td>0.175267</td>\n",
       "    </tr>\n",
       "    <tr>\n",
       "      <th>3</th>\n",
       "      <td>-1.537551</td>\n",
       "      <td>-0.717175</td>\n",
       "      <td>0.635024</td>\n",
       "      <td>-0.351591</td>\n",
       "      <td>-2.295090</td>\n",
       "      <td>-0.855000</td>\n",
       "      <td>1.655498</td>\n",
       "      <td>-0.263762</td>\n",
       "      <td>0.068151</td>\n",
       "      <td>0.629417</td>\n",
       "    </tr>\n",
       "    <tr>\n",
       "      <th>4</th>\n",
       "      <td>-0.072209</td>\n",
       "      <td>-2.155744</td>\n",
       "      <td>0.533470</td>\n",
       "      <td>1.597083</td>\n",
       "      <td>1.331926</td>\n",
       "      <td>-0.658985</td>\n",
       "      <td>1.094355</td>\n",
       "      <td>0.815541</td>\n",
       "      <td>0.204426</td>\n",
       "      <td>0.872842</td>\n",
       "    </tr>\n",
       "  </tbody>\n",
       "</table>\n",
       "</div>"
      ],
      "text/plain": [
       "          0         1         2         3         4         5         6  \\\n",
       "0  1.764831  1.579606  0.093808  0.341546  0.103202  0.745205  0.421736   \n",
       "1 -1.612963  0.709920 -0.277540 -0.301827 -0.693297 -0.045695  1.116862   \n",
       "2  0.125936 -0.058708  1.030243  0.559735 -2.658385  1.007996 -2.100631   \n",
       "3 -1.537551 -0.717175  0.635024 -0.351591 -2.295090 -0.855000  1.655498   \n",
       "4 -0.072209 -2.155744  0.533470  1.597083  1.331926 -0.658985  1.094355   \n",
       "\n",
       "          7         8         9  \n",
       "0 -0.461091 -0.710885 -0.761760  \n",
       "1  0.265971 -0.166048  0.714702  \n",
       "2 -0.566372  0.213499  0.175267  \n",
       "3 -0.263762  0.068151  0.629417  \n",
       "4  0.815541  0.204426  0.872842  "
      ]
     },
     "execution_count": 5,
     "metadata": {},
     "output_type": "execute_result"
    }
   ],
   "source": [
    "X = normalise(X)\n",
    "pd.DataFrame(X).head()"
   ]
  },
  {
   "cell_type": "code",
   "execution_count": 6,
   "id": "e3ad3d1c",
   "metadata": {},
   "outputs": [
    {
     "data": {
      "text/plain": [
       "array([-2.75335310e-17,  5.82867088e-17, -1.06581410e-17, -1.39888101e-17,\n",
       "        2.49800181e-18,  4.28546088e-17,  1.43635104e-17,  1.46549439e-17,\n",
       "        7.14983628e-17, -1.07691633e-16])"
      ]
     },
     "execution_count": 6,
     "metadata": {},
     "output_type": "execute_result"
    }
   ],
   "source": [
    "X.mean(axis=0)"
   ]
  },
  {
   "cell_type": "code",
   "execution_count": 7,
   "id": "b7ae4d57",
   "metadata": {},
   "outputs": [
    {
     "data": {
      "text/plain": [
       "array([1., 1., 1., 1., 1., 1., 1., 1., 1., 1.])"
      ]
     },
     "execution_count": 7,
     "metadata": {},
     "output_type": "execute_result"
    }
   ],
   "source": [
    "X.std(axis=0)"
   ]
  },
  {
   "cell_type": "code",
   "execution_count": 8,
   "id": "747581bd",
   "metadata": {},
   "outputs": [
    {
     "data": {
      "image/png": "[encoded data removed]",
      "text/plain": [
       "<Figure size 800x550 with 10 Axes>"
      ]
     },
     "metadata": {},
     "output_type": "display_data"
    }
   ],
   "source": [
    "# Step-3 Visualise y as function of each feature \n",
    "\n",
    "for f in range(0,10):\n",
    "    plt.subplot(4,3,f+1)\n",
    "    plt.scatter(X[:,f],y)\n",
    "plt.show()"
   ]
  },
  {
   "cell_type": "code",
   "execution_count": 9,
   "id": "b5046e2b",
   "metadata": {},
   "outputs": [],
   "source": [
    "# Step - 4 Train Test Split \n",
    "XT, Xt,yT,yt = train_test_split(X,y,test_size=0.3,shuffle=False,random_state=0)"
   ]
  },
  {
   "cell_type": "code",
   "execution_count": 10,
   "id": "49d8f1c7",
   "metadata": {},
   "outputs": [
    {
     "name": "stdout",
     "output_type": "stream",
     "text": [
      "(350, 10) (350,)\n",
      "(150, 10) (150,)\n"
     ]
    }
   ],
   "source": [
    "print(XT.shape,yT.shape)\n",
    "print(Xt.shape,yt.shape)\n"
   ]
  },
  {
   "cell_type": "code",
   "execution_count": 11,
   "id": "2278dfc6",
   "metadata": {},
   "outputs": [],
   "source": [
    "# Step - 5 Modelling / Linear Regression with Muliple Features\n",
    "def preprocess(X):\n",
    "    # add a column of 1s in X as 0th column\n",
    "    if X.shape[1] == n_features:\n",
    "        m = X.shape[0]\n",
    "        ones = np.ones((m,1))\n",
    "        X = np.hstack((ones,X))\n",
    "    return X"
   ]
  },
  {
   "cell_type": "code",
   "execution_count": 12,
   "id": "336a164e",
   "metadata": {},
   "outputs": [],
   "source": [
    "\n",
    "def hypothesis(X,theta):\n",
    "    return np.dot(X,theta)\n",
    "\n",
    "def loss(X,y,theta):\n",
    "    yp = hypothesis(X,theta)\n",
    "    error = np.mean((y-yp)**2)\n",
    "    return error \n",
    "\n",
    "def gradient(X,y,theta):\n",
    "    yp = hypothesis(X,theta)\n",
    "    grad = np.dot(X.T,(yp-y))\n",
    "    m = X.shape[0]\n",
    "    return grad/m\n",
    "\n",
    "def train(X,y,learning_rate=0.1,max_iters=100):\n",
    "    n = X.shape[1] \n",
    "    theta = np.random.randn(n)\n",
    "    error_list = []\n",
    "\n",
    "    for i in range(max_iters):\n",
    "        e = loss(X,y,theta)\n",
    "        error_list.append(e)\n",
    "        grad = gradient(X,y,theta)\n",
    "        theta = theta - learning_rate*grad \n",
    "\n",
    "    plt.plot(error_list)\n",
    "    return theta "
   ]
  },
  {
   "cell_type": "code",
   "execution_count": 13,
   "id": "e2bf4014",
   "metadata": {
    "scrolled": true
   },
   "outputs": [
    {
     "name": "stdout",
     "output_type": "stream",
     "text": [
      "(350, 11) (150, 11)\n",
      "[-3.83067266e+00 -2.12474464e-02  6.04369818e+01  1.06952403e+01\n",
      "  6.35754918e+01 -3.55084049e-02  7.52853268e-02  4.09260379e+01\n",
      "  4.12157792e-02  6.11513326e-02  2.53395720e+01]\n"
     ]
    },
    {
     "data": {
      "image/png": "[encoded data removed]",
      "text/plain": [
       "<Figure size 800x550 with 1 Axes>"
      ]
     },
     "metadata": {},
     "output_type": "display_data"
    }
   ],
   "source": [
    "XT = preprocess(XT)\n",
    "Xt = preprocess(Xt)\n",
    "print(XT.shape,Xt.shape)\n",
    "\n",
    "theta = train(XT,yT)\n",
    "print(theta)"
   ]
  },
  {
   "cell_type": "code",
   "execution_count": 14,
   "id": "639d813d",
   "metadata": {},
   "outputs": [
    {
     "name": "stdout",
     "output_type": "stream",
     "text": [
      "(11,)\n"
     ]
    }
   ],
   "source": [
    "print(theta.shape)"
   ]
  },
  {
   "cell_type": "code",
   "execution_count": 15,
   "id": "5d461a4c",
   "metadata": {},
   "outputs": [],
   "source": [
    "def r2Score(y,yp):\n",
    "    ymean = y.mean()\n",
    "    num = np.sum((y-yp)**2)\n",
    "    denom = np.sum((y - ymean)**2)\n",
    "    return (1 - num/denom)*100 "
   ]
  },
  {
   "cell_type": "code",
   "execution_count": 16,
   "id": "a3160c8b",
   "metadata": {},
   "outputs": [],
   "source": [
    "yp = hypothesis(Xt,theta)"
   ]
  },
  {
   "cell_type": "code",
   "execution_count": 17,
   "id": "8a00e95a",
   "metadata": {},
   "outputs": [
    {
     "data": {
      "text/plain": [
       "99.95694359686105"
      ]
     },
     "execution_count": 17,
     "metadata": {},
     "output_type": "execute_result"
    }
   ],
   "source": [
    "r2Score(yt,yp)"
   ]
  },
  {
   "cell_type": "code",
   "execution_count": 18,
   "id": "8a184572",
   "metadata": {},
   "outputs": [],
   "source": [
    "## Linear Regression with Sk-Learn"
   ]
  },
  {
   "cell_type": "code",
   "execution_count": 19,
   "id": "45a1f109",
   "metadata": {},
   "outputs": [],
   "source": [
    "from sklearn.linear_model import LinearRegression"
   ]
  },
  {
   "cell_type": "code",
   "execution_count": 20,
   "id": "810eef41",
   "metadata": {},
   "outputs": [],
   "source": [
    "model = LinearRegression()"
   ]
  },
  {
   "cell_type": "code",
   "execution_count": 21,
   "id": "3098067f",
   "metadata": {},
   "outputs": [
    {
     "data": {
      "text/html": [
       "<style>#sk-container-id-1 {color: black;background-color: white;}#sk-container-id-1 pre{padding: 0;}#sk-container-id-1 div.sk-toggleable {background-color: white;}#sk-container-id-1 label.sk-toggleable__label {cursor: pointer;display: block;width: 100%;margin-bottom: 0;padding: 0.3em;box-sizing: border-box;text-align: center;}#sk-container-id-1 label.sk-toggleable__label-arrow:before {content: \"▸\";float: left;margin-right: 0.25em;color: #696969;}#sk-container-id-1 label.sk-toggleable__label-arrow:hover:before {color: black;}#sk-container-id-1 div.sk-estimator:hover label.sk-toggleable__label-arrow:before {color: black;}#sk-container-id-1 div.sk-toggleable__content {max-height: 0;max-width: 0;overflow: hidden;text-align: left;background-color: #f0f8ff;}#sk-container-id-1 div.sk-toggleable__content pre {margin: 0.2em;color: black;border-radius: 0.25em;background-color: #f0f8ff;}#sk-container-id-1 input.sk-toggleable__control:checked~div.sk-toggleable__content {max-height: 200px;max-width: 100%;overflow: auto;}#sk-container-id-1 input.sk-toggleable__control:checked~label.sk-toggleable__label-arrow:before {content: \"▾\";}#sk-container-id-1 div.sk-estimator input.sk-toggleable__control:checked~label.sk-toggleable__label {background-color: #d4ebff;}#sk-container-id-1 div.sk-label input.sk-toggleable__control:checked~label.sk-toggleable__label {background-color: #d4ebff;}#sk-container-id-1 input.sk-hidden--visually {border: 0;clip: rect(1px 1px 1px 1px);clip: rect(1px, 1px, 1px, 1px);height: 1px;margin: -1px;overflow: hidden;padding: 0;position: absolute;width: 1px;}#sk-container-id-1 div.sk-estimator {font-family: monospace;background-color: #f0f8ff;border: 1px dotted black;border-radius: 0.25em;box-sizing: border-box;margin-bottom: 0.5em;}#sk-container-id-1 div.sk-estimator:hover {background-color: #d4ebff;}#sk-container-id-1 div.sk-parallel-item::after {content: \"\";width: 100%;border-bottom: 1px solid gray;flex-grow: 1;}#sk-container-id-1 div.sk-label:hover label.sk-toggleable__label {background-color: #d4ebff;}#sk-container-id-1 div.sk-serial::before {content: \"\";position: absolute;border-left: 1px solid gray;box-sizing: border-box;top: 0;bottom: 0;left: 50%;z-index: 0;}#sk-container-id-1 div.sk-serial {display: flex;flex-direction: column;align-items: center;background-color: white;padding-right: 0.2em;padding-left: 0.2em;position: relative;}#sk-container-id-1 div.sk-item {position: relative;z-index: 1;}#sk-container-id-1 div.sk-parallel {display: flex;align-items: stretch;justify-content: center;background-color: white;position: relative;}#sk-container-id-1 div.sk-item::before, #sk-container-id-1 div.sk-parallel-item::before {content: \"\";position: absolute;border-left: 1px solid gray;box-sizing: border-box;top: 0;bottom: 0;left: 50%;z-index: -1;}#sk-container-id-1 div.sk-parallel-item {display: flex;flex-direction: column;z-index: 1;position: relative;background-color: white;}#sk-container-id-1 div.sk-parallel-item:first-child::after {align-self: flex-end;width: 50%;}#sk-container-id-1 div.sk-parallel-item:last-child::after {align-self: flex-start;width: 50%;}#sk-container-id-1 div.sk-parallel-item:only-child::after {width: 0;}#sk-container-id-1 div.sk-dashed-wrapped {border: 1px dashed gray;margin: 0 0.4em 0.5em 0.4em;box-sizing: border-box;padding-bottom: 0.4em;background-color: white;}#sk-container-id-1 div.sk-label label {font-family: monospace;font-weight: bold;display: inline-block;line-height: 1.2em;}#sk-container-id-1 div.sk-label-container {text-align: center;}#sk-container-id-1 div.sk-container {/* jupyter's `normalize.less` sets `[hidden] { display: none; }` but bootstrap.min.css set `[hidden] { display: none !important; }` so we also need the `!important` here to be able to override the default hidden behavior on the sphinx rendered scikit-learn.org. See: https://github.com/scikit-learn/scikit-learn/issues/21755 */display: inline-block !important;position: relative;}#sk-container-id-1 div.sk-text-repr-fallback {display: none;}</style><div id=\"sk-container-id-1\" class=\"sk-top-container\"><div class=\"sk-text-repr-fallback\"><pre>LinearRegression()</pre><b>In a Jupyter environment, please rerun this cell to show the HTML representation or trust the notebook. <br />On GitHub, the HTML representation is unable to render, please try loading this page with nbviewer.org.</b></div><div class=\"sk-container\" hidden><div class=\"sk-item\"><div class=\"sk-estimator sk-toggleable\"><input class=\"sk-toggleable__control sk-hidden--visually\" id=\"sk-estimator-id-1\" type=\"checkbox\" checked><label for=\"sk-estimator-id-1\" class=\"sk-toggleable__label sk-toggleable__label-arrow\">LinearRegression</label><div class=\"sk-toggleable__content\"><pre>LinearRegression()</pre></div></div></div></div></div>"
      ],
      "text/plain": [
       "LinearRegression()"
      ]
     },
     "execution_count": 21,
     "metadata": {},
     "output_type": "execute_result"
    }
   ],
   "source": [
    "model.fit(XT,yT)"
   ]
  },
  {
   "cell_type": "code",
   "execution_count": 22,
   "id": "87706a06",
   "metadata": {},
   "outputs": [],
   "source": [
    "yp = model.predict(Xt)"
   ]
  },
  {
   "cell_type": "code",
   "execution_count": 23,
   "id": "cb551b89",
   "metadata": {},
   "outputs": [
    {
     "data": {
      "text/plain": [
       "(150,)"
      ]
     },
     "execution_count": 23,
     "metadata": {},
     "output_type": "execute_result"
    }
   ],
   "source": [
    "yp.shape"
   ]
  },
  {
   "cell_type": "code",
   "execution_count": 24,
   "id": "fb985a69",
   "metadata": {},
   "outputs": [
    {
     "data": {
      "text/plain": [
       "0.9995692220028003"
      ]
     },
     "execution_count": 24,
     "metadata": {},
     "output_type": "execute_result"
    }
   ],
   "source": [
    "model.score(Xt,yt)"
   ]
  },
  {
   "cell_type": "code",
   "execution_count": 25,
   "id": "19d8c271",
   "metadata": {},
   "outputs": [
    {
     "data": {
      "text/plain": [
       "-3.830965832241089"
      ]
     },
     "execution_count": 25,
     "metadata": {},
     "output_type": "execute_result"
    }
   ],
   "source": [
    "model.intercept_"
   ]
  },
  {
   "cell_type": "code",
   "execution_count": 26,
   "id": "7a2568ad",
   "metadata": {},
   "outputs": [
    {
     "data": {
      "text/plain": [
       "array([ 0.00000000e+00, -2.06171871e-02,  6.04374523e+01,  1.06974366e+01,\n",
       "        6.35793325e+01, -3.74345796e-02,  7.24956651e-02,  4.09293832e+01,\n",
       "        4.23429505e-02,  5.84283306e-02,  2.53368186e+01])"
      ]
     },
     "execution_count": 26,
     "metadata": {},
     "output_type": "execute_result"
    }
   ],
   "source": [
    "model.coef_"
   ]
  },
  {
   "cell_type": "code",
   "execution_count": null,
   "id": "13172310",
   "metadata": {},
   "outputs": [],
   "source": []
  }
 ],
 "metadata": {
  "kernelspec": {
   "display_name": "Python 3 (ipykernel)",
   "language": "python",
   "name": "python3"
  },
  "language_info": {
   "codemirror_mode": {
    "name": "ipython",
    "version": 3
   },
   "file_extension": ".py",
   "mimetype": "text/x-python",
   "name": "python",
   "nbconvert_exporter": "python",
   "pygments_lexer": "ipython3",
   "version": "3.10.9"
  }
 },
 "nbformat": 4,
 "nbformat_minor": 5
}
